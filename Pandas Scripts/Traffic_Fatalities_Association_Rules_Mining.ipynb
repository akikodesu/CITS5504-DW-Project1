{
 "cells": [
  {
   "cell_type": "code",
   "execution_count": null,
   "id": "aa353e75-6737-4469-86cd-77b263c555ae",
   "metadata": {},
   "outputs": [],
   "source": [
    "%pip install mlxtend\n",
    "import pandas as pd\n",
    "import numpy as np\n",
    "import mlxtend\n",
    "from mlxtend.preprocessing import TransactionEncoder\n",
    "from mlxtend.frequent_patterns import apriori\n",
    "from mlxtend.frequent_patterns import association_rules"
   ]
  },
  {
   "cell_type": "code",
   "execution_count": 2,
   "id": "94892b17-357c-4a5a-bfc0-092b7bd00583",
   "metadata": {},
   "outputs": [
    {
     "name": "stderr",
     "output_type": "stream",
     "text": [
      "/var/folders/58/dht_hvnx2kx127k6kv5w9f7w0000gn/T/ipykernel_10150/2012325296.py:1: DtypeWarning: Columns (13,15) have mixed types. Specify dtype option on import or set low_memory=False.\n",
      "  df = pd.read_csv('fatalities_mining_dataset.csv')\n"
     ]
    }
   ],
   "source": [
    "# Load the pre-processed dataset from ETL output\n",
    "df = pd.read_csv('fatalities_mining_dataset.csv')\n",
    "\n",
    "# Remove identifier columns that are not needed for pattern mining\n",
    "# - fatality_id: Unique identifier for each victim\n",
    "# - crash_id: Unique identifier for each crash\n",
    "# These identifiers are not meaningful for association rule mining\n",
    "new_df = df.drop(['fatality_id','crash_id'], axis='columns')"
   ]
  },
  {
   "cell_type": "markdown",
   "id": "b0ca918f-bb39-4fa0-9af1-39b5f1b344f6",
   "metadata": {},
   "source": [
    "### Data Bining"
   ]
  },
  {
   "cell_type": "code",
   "execution_count": 3,
   "id": "4494f7ba-6522-47aa-92f1-1b8d59d10b63",
   "metadata": {},
   "outputs": [],
   "source": [
    "# Define speed limit categories based on common speed zones in Australia\n",
    "def bin_speed(speed):\n",
    "    if speed <= 30:\n",
    "        return 'Very Low'    # School zones, residential areas\n",
    "    elif speed <= 50:\n",
    "        return 'Low'         # Urban areas, local streets\n",
    "    elif speed <= 70:\n",
    "        return 'Medium'      # Suburban roads\n",
    "    elif speed <= 90:\n",
    "        return 'High'        # Rural roads\n",
    "    else:\n",
    "        return 'Very High'   # Highways, freeways\n",
    "\n",
    "# Apply categorization to create new feature\n",
    "new_df['speed_level'] = new_df['speed_limit'].apply(bin_speed)"
   ]
  },
  {
   "cell_type": "markdown",
   "id": "958c798e-5462-451f-bfbc-862431d90c68",
   "metadata": {},
   "source": [
    "In this project, we selected a meaningful subset of attributes from the preprocessed dataset to perform association rule mining. The goal is to identify interpretable and relevant patterns that can help understand the relationship between contextual factors and the type of road user involved in fatal crashes.\n",
    "\n",
    "### Selection Criteria\n",
    "The selected attributes satisfy the following conditions:\n",
    "\n",
    "Categorical Nature: Association rule mining requires attributes to be categorical. All selected features are either originally categorical or have been derived from continuous variables via binning (e.g., speed_limit → speed_level).\n",
    "\n",
    "Interpretability: Each attribute is human-understandable and can be directly used in explaining patterns or policy recommendations (e.g., \"female drivers are more vulnerable at night\").\n",
    "\n",
    "Relevance to Road User Risk: Chosen features are strongly related to road context, temporal conditions, demographics, and vehicle/environment characteristics."
   ]
  },
  {
   "cell_type": "code",
   "execution_count": 4,
   "id": "c153cf20-e979-43c0-930c-3abfbbebeff4",
   "metadata": {},
   "outputs": [],
   "source": [
    "# Define selected attributes for mining\n",
    "selected_columns = [\n",
    "    'gender',                    \n",
    "    'age_group',                \n",
    "    'state',                     \n",
    "    'day_of_week',             \n",
    "    'time_of_day',              \n",
    "    'season',                  \n",
    "    'national_road_type',        \n",
    "    'christmas_period',         \n",
    "    'easter_period',            \n",
    "    'abs_pct_65_plus_group_2023', \n",
    "    'speed_level',              \n",
    "    'road_user'                 # Target variable for RHS of rules\n",
    "]\n",
    "\n",
    "# Create subset for mining\n",
    "sub_data = new_df[selected_columns].copy()"
   ]
  },
  {
   "cell_type": "code",
   "execution_count": 5,
   "id": "d16bb1cf-b957-4f61-b3dc-54f754c77621",
   "metadata": {},
   "outputs": [
    {
     "name": "stdout",
     "output_type": "stream",
     "text": [
      "gender\n",
      "gender\n",
      "Male      40808\n",
      "Female    16001\n",
      "NaN          31\n",
      "Name: count, dtype: int64\n",
      "----------------------------------------\n",
      "age_group\n",
      "age_group\n",
      "40_to_64       14637\n",
      "17_to_25       14537\n",
      "26_to_39       13235\n",
      "75_or_older     5611\n",
      "65_to_74        4442\n",
      "0_to_16         4279\n",
      "NaN               99\n",
      "Name: count, dtype: int64\n",
      "----------------------------------------\n",
      "state\n",
      "state\n",
      "NSW    17326\n",
      "VIC    12423\n",
      "QLD    11438\n",
      "WA      6842\n",
      "SA      4853\n",
      "NT      1772\n",
      "TAS     1677\n",
      "ACT      509\n",
      "Name: count, dtype: int64\n",
      "----------------------------------------\n",
      "day_of_week\n",
      "day_of_week\n",
      "Weekday    33492\n",
      "Weekend    23336\n",
      "NaN           12\n",
      "Name: count, dtype: int64\n",
      "----------------------------------------\n",
      "time_of_day\n",
      "time_of_day\n",
      "Day      32376\n",
      "Night    24421\n",
      "NaN         43\n",
      "Name: count, dtype: int64\n",
      "----------------------------------------\n",
      "season\n",
      "season\n",
      "Spring    14417\n",
      "Autumn    14341\n",
      "Summer    14044\n",
      "Winter    14038\n",
      "Name: count, dtype: int64\n",
      "----------------------------------------\n",
      "national_road_type\n",
      "national_road_type\n",
      "Undetermined                 45813\n",
      "National or State Highway     3230\n",
      "Arterial Road                 2615\n",
      "Local Road                    2292\n",
      "Sub-arterial Road             1865\n",
      "Collector Road                 847\n",
      "Access road                    160\n",
      "Pedestrian Thoroughfare         14\n",
      "Busway                           4\n",
      "Name: count, dtype: int64\n",
      "----------------------------------------\n",
      "christmas_period\n",
      "christmas_period\n",
      "False    55063\n",
      "True      1777\n",
      "Name: count, dtype: int64\n",
      "----------------------------------------\n",
      "easter_period\n",
      "easter_period\n",
      "False    56507\n",
      "True       333\n",
      "Name: count, dtype: int64\n",
      "----------------------------------------\n",
      "abs_pct_65_plus_group_2023\n",
      "abs_pct_65_plus_group_2023\n",
      "14% to <18%      48029\n",
      "18% to <22%       6530\n",
      "Less than 10%     1772\n",
      "10% to <14%        509\n",
      "Name: count, dtype: int64\n",
      "----------------------------------------\n",
      "speed_level\n",
      "speed_level\n",
      "Very High    27585\n",
      "Medium       17224\n",
      "High          8188\n",
      "Low           3752\n",
      "Very Low        91\n",
      "Name: count, dtype: int64\n",
      "----------------------------------------\n",
      "road_user\n",
      "road_user\n",
      "Driver                          25671\n",
      "Passenger                       12910\n",
      "Pedestrian                       8753\n",
      "Motorcycle rider                 7452\n",
      "Pedal cyclist                    1544\n",
      "Motorcycle pillion passenger      384\n",
      "NaN                               126\n",
      "Name: count, dtype: int64\n",
      "----------------------------------------\n"
     ]
    }
   ],
   "source": [
    "for col in sub_data.columns:\n",
    "    print(col)\n",
    "    print(sub_data[col].value_counts(dropna=False))\n",
    "    print('-' * 40)"
   ]
  },
  {
   "cell_type": "code",
   "execution_count": 6,
   "id": "a63f4510-b1e9-4fd5-92c9-8d89ed3ca3bb",
   "metadata": {},
   "outputs": [],
   "source": [
    "# Check number of missing values in each column\n",
    "sub_data.isnull().sum()\n",
    "\n",
    "# Remove rows with any missing values\n",
    "# This ensures complete cases for pattern mining\n",
    "sub_data = sub_data.dropna()"
   ]
  },
  {
   "cell_type": "markdown",
   "id": "f03c2d0a-98f7-48c6-81c0-ad0d577a67e0",
   "metadata": {},
   "source": [
    "### Data transformation"
   ]
  },
  {
   "cell_type": "code",
   "execution_count": 7,
   "id": "1c367dcd-8b0b-46e3-ae61-50250ed4917e",
   "metadata": {},
   "outputs": [],
   "source": [
    "# Convert all values to string type for consistent encoding\n",
    "sub_data_str = sub_data.astype(str)\n",
    "\n",
    "# Transform data into transaction format required by Apriori\n",
    "# Each row becomes a transaction with attribute-value pairs\n",
    "transactions = [\n",
    "    [f\"{col}={row[col]}\" for col in sub_data_str.columns]\n",
    "    for _, row in sub_data_str.iterrows()\n",
    "]\n",
    "\n",
    "# Encode transactions into binary format\n",
    "te = TransactionEncoder()\n",
    "te_ary = te.fit(transactions).transform(transactions)\n",
    "encoded_df = pd.DataFrame(te_ary, columns=te.columns_)"
   ]
  },
  {
   "cell_type": "code",
   "execution_count": 8,
   "id": "ecbc5024-ed8f-49f1-ad26-f6fabaf5f1bb",
   "metadata": {},
   "outputs": [
    {
     "data": {
      "text/plain": [
       "['road_user=Driver',\n",
       " 'road_user=Motorcycle pillion passenger',\n",
       " 'road_user=Motorcycle rider',\n",
       " 'road_user=Passenger',\n",
       " 'road_user=Pedal cyclist',\n",
       " 'road_user=Pedestrian']"
      ]
     },
     "execution_count": 8,
     "metadata": {},
     "output_type": "execute_result"
    }
   ],
   "source": [
    "[col for col in encoded_df.columns if 'road_user=' in col]"
   ]
  },
  {
   "cell_type": "markdown",
   "id": "7dbc149d-a951-4b30-a807-4aadd0e92461",
   "metadata": {},
   "source": [
    "### Implementing"
   ]
  },
  {
   "cell_type": "code",
   "execution_count": 15,
   "id": "dbf9fb0b-79fc-419e-9c6b-c4809b460b3b",
   "metadata": {},
   "outputs": [
    {
     "name": "stdout",
     "output_type": "stream",
     "text": [
      "Total number of rules generated: 4184\n",
      "Total number of rules generated: 312\n"
     ]
    }
   ],
   "source": [
    "# Generate frequent itemsets using Apriori algorithm\n",
    "# min_support=0.2 ensures rules appear in at least 20% of transactions\n",
    "frequent_itemsets = apriori(encoded_df, min_support=0.2, use_colnames=True)\n",
    "\n",
    "#  Generate association rules and calculate metrics\n",
    "# min_threshold=0.3 ensures rules have at least 30% confidence\n",
    "rules = association_rules(frequent_itemsets, metric=\"confidence\", min_threshold=0.3)\n",
    "\n",
    "# Analyze rule distribution\n",
    "print(f\"Total number of rules generated: {len(rules)}\")\n",
    "\n",
    "road_user_rules = rules[rules['consequents'].apply(lambda x: any('road_user=' in item for item in x))]\n",
    "print(f\"Total number of rules generated: {len(road_user_rules)}\")"
   ]
  },
  {
   "cell_type": "code",
   "execution_count": 16,
   "id": "b4bfd643-6017-4724-98cc-14615b55a94d",
   "metadata": {},
   "outputs": [],
   "source": [
    "# Sort rules by lift and confidence in descending order\n",
    "# This identifies the strongest and most interesting patterns\n",
    "top_k_rules = road_user_rules.sort_values(by=['lift', 'confidence'], ascending=False)\n",
    "\n",
    "# Export top 3 rules for detailed analysis\n",
    "# Includes antecedents, consequents, and key metrics\n",
    "top_k_rules[['antecedents', 'consequents', 'support', 'confidence', 'lift']].head(3).to_csv(\"top_k_rules.csv\", index=False)"
   ]
  }
 ],
 "metadata": {
  "kernelspec": {
   "display_name": "Python 3 (ipykernel)",
   "language": "python",
   "name": "python3"
  },
  "language_info": {
   "codemirror_mode": {
    "name": "ipython",
    "version": 3
   },
   "file_extension": ".py",
   "mimetype": "text/x-python",
   "name": "python",
   "nbconvert_exporter": "python",
   "pygments_lexer": "ipython3",
   "version": "3.11.4"
  }
 },
 "nbformat": 4,
 "nbformat_minor": 5
}
